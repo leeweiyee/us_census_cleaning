{
 "cells": [
  {
   "cell_type": "code",
   "execution_count": 1,
   "metadata": {},
   "outputs": [],
   "source": [
    "import numpy as np\n",
    "import pandas as pd\n",
    "import matplotlib.pyplot as plt\n",
    "import glob"
   ]
  },
  {
   "cell_type": "code",
   "execution_count": 2,
   "metadata": {},
   "outputs": [
    {
     "data": {
      "text/html": [
       "<div>\n",
       "<style scoped>\n",
       "    .dataframe tbody tr th:only-of-type {\n",
       "        vertical-align: middle;\n",
       "    }\n",
       "\n",
       "    .dataframe tbody tr th {\n",
       "        vertical-align: top;\n",
       "    }\n",
       "\n",
       "    .dataframe thead th {\n",
       "        text-align: right;\n",
       "    }\n",
       "</style>\n",
       "<table border=\"1\" class=\"dataframe\">\n",
       "  <thead>\n",
       "    <tr style=\"text-align: right;\">\n",
       "      <th></th>\n",
       "      <th>Unnamed: 0</th>\n",
       "      <th>State</th>\n",
       "      <th>TotalPop</th>\n",
       "      <th>Hispanic</th>\n",
       "      <th>White</th>\n",
       "      <th>Black</th>\n",
       "      <th>Native</th>\n",
       "      <th>Asian</th>\n",
       "      <th>Pacific</th>\n",
       "      <th>Income</th>\n",
       "      <th>GenderPop</th>\n",
       "    </tr>\n",
       "  </thead>\n",
       "  <tbody>\n",
       "    <tr>\n",
       "      <th>0</th>\n",
       "      <td>0</td>\n",
       "      <td>Rhode Island</td>\n",
       "      <td>1053661</td>\n",
       "      <td>13.356666666666678%</td>\n",
       "      <td>74.32541666666665%</td>\n",
       "      <td>5.68291666666667%</td>\n",
       "      <td>0.3462500000000001%</td>\n",
       "      <td>3.2474999999999983%</td>\n",
       "      <td>0.035833333333333335%</td>\n",
       "      <td>$59125.270833333336</td>\n",
       "      <td>510388M_543273F</td>\n",
       "    </tr>\n",
       "    <tr>\n",
       "      <th>1</th>\n",
       "      <td>1</td>\n",
       "      <td>South Carolina</td>\n",
       "      <td>4777576</td>\n",
       "      <td>5.056684981684991%</td>\n",
       "      <td>62.888736263736185%</td>\n",
       "      <td>28.75091575091577%</td>\n",
       "      <td>0.2923992673992673%</td>\n",
       "      <td>1.249175824175822%</td>\n",
       "      <td>0.046978021978021964%</td>\n",
       "      <td>$46296.807763401106</td>\n",
       "      <td>2322409M_2455167F</td>\n",
       "    </tr>\n",
       "    <tr>\n",
       "      <th>2</th>\n",
       "      <td>2</td>\n",
       "      <td>South Dakota</td>\n",
       "      <td>843190</td>\n",
       "      <td>3.2396396396396376%</td>\n",
       "      <td>82.50090090090092%</td>\n",
       "      <td>1.4238738738738752%</td>\n",
       "      <td>9.417567567567566%</td>\n",
       "      <td>1.0193693693693688%</td>\n",
       "      <td>0.04189189189189189%</td>\n",
       "      <td>$51805.40540540541</td>\n",
       "      <td>423477M_419713F</td>\n",
       "    </tr>\n",
       "    <tr>\n",
       "      <th>3</th>\n",
       "      <td>3</td>\n",
       "      <td>Tennessee</td>\n",
       "      <td>6499615</td>\n",
       "      <td>4.720026972353339%</td>\n",
       "      <td>73.49008766014822%</td>\n",
       "      <td>18.283816587997297%</td>\n",
       "      <td>0.22663519892110592%</td>\n",
       "      <td>1.4072825354012126%</td>\n",
       "      <td>0.04315576534052599%</td>\n",
       "      <td>$47328.083616587355</td>\n",
       "      <td>3167756M_3331859F</td>\n",
       "    </tr>\n",
       "    <tr>\n",
       "      <th>4</th>\n",
       "      <td>4</td>\n",
       "      <td>Texas</td>\n",
       "      <td>26538614</td>\n",
       "      <td>38.04673809068304%</td>\n",
       "      <td>44.687908934379145%</td>\n",
       "      <td>11.65004782858236%</td>\n",
       "      <td>0.26114405969007126%</td>\n",
       "      <td>3.6696958102161825%</td>\n",
       "      <td>0.06881576430074614%</td>\n",
       "      <td>$55874.522600500095</td>\n",
       "      <td>13171316M_13367298F</td>\n",
       "    </tr>\n",
       "  </tbody>\n",
       "</table>\n",
       "</div>"
      ],
      "text/plain": [
       "   Unnamed: 0           State  TotalPop             Hispanic  \\\n",
       "0           0    Rhode Island   1053661  13.356666666666678%   \n",
       "1           1  South Carolina   4777576   5.056684981684991%   \n",
       "2           2    South Dakota    843190  3.2396396396396376%   \n",
       "3           3       Tennessee   6499615   4.720026972353339%   \n",
       "4           4           Texas  26538614   38.04673809068304%   \n",
       "\n",
       "                 White                Black                Native  \\\n",
       "0   74.32541666666665%    5.68291666666667%   0.3462500000000001%   \n",
       "1  62.888736263736185%   28.75091575091577%   0.2923992673992673%   \n",
       "2   82.50090090090092%  1.4238738738738752%    9.417567567567566%   \n",
       "3   73.49008766014822%  18.283816587997297%  0.22663519892110592%   \n",
       "4  44.687908934379145%   11.65004782858236%  0.26114405969007126%   \n",
       "\n",
       "                 Asian                Pacific               Income  \\\n",
       "0  3.2474999999999983%  0.035833333333333335%  $59125.270833333336   \n",
       "1   1.249175824175822%  0.046978021978021964%  $46296.807763401106   \n",
       "2  1.0193693693693688%   0.04189189189189189%   $51805.40540540541   \n",
       "3  1.4072825354012126%   0.04315576534052599%  $47328.083616587355   \n",
       "4  3.6696958102161825%   0.06881576430074614%  $55874.522600500095   \n",
       "\n",
       "             GenderPop  \n",
       "0      510388M_543273F  \n",
       "1    2322409M_2455167F  \n",
       "2      423477M_419713F  \n",
       "3    3167756M_3331859F  \n",
       "4  13171316M_13367298F  "
      ]
     },
     "execution_count": 2,
     "metadata": {},
     "output_type": "execute_result"
    }
   ],
   "source": [
    "files = glob.glob(\"states*.csv\")\n",
    "df_list = []\n",
    "for filename in files:\n",
    "  data = pd.read_csv(filename)\n",
    "  df_list.append(data)\n",
    "\n",
    "us_census = pd.concat(df_list)\n",
    "us_census.head()"
   ]
  },
  {
   "cell_type": "code",
   "execution_count": 3,
   "metadata": {},
   "outputs": [
    {
     "data": {
      "text/plain": [
       "Index(['Unnamed: 0', 'State', 'TotalPop', 'Hispanic', 'White', 'Black',\n",
       "       'Native', 'Asian', 'Pacific', 'Income', 'GenderPop'],\n",
       "      dtype='object')"
      ]
     },
     "execution_count": 3,
     "metadata": {},
     "output_type": "execute_result"
    }
   ],
   "source": [
    "us_census.columns"
   ]
  },
  {
   "cell_type": "markdown",
   "metadata": {},
   "source": [
    "## Cleaning columns"
   ]
  },
  {
   "cell_type": "code",
   "execution_count": 4,
   "metadata": {},
   "outputs": [
    {
     "data": {
      "text/html": [
       "<div>\n",
       "<style scoped>\n",
       "    .dataframe tbody tr th:only-of-type {\n",
       "        vertical-align: middle;\n",
       "    }\n",
       "\n",
       "    .dataframe tbody tr th {\n",
       "        vertical-align: top;\n",
       "    }\n",
       "\n",
       "    .dataframe thead th {\n",
       "        text-align: right;\n",
       "    }\n",
       "</style>\n",
       "<table border=\"1\" class=\"dataframe\">\n",
       "  <thead>\n",
       "    <tr style=\"text-align: right;\">\n",
       "      <th></th>\n",
       "      <th>State</th>\n",
       "      <th>TotalPop</th>\n",
       "      <th>Hispanic</th>\n",
       "      <th>White</th>\n",
       "      <th>Black</th>\n",
       "      <th>Native</th>\n",
       "      <th>Asian</th>\n",
       "      <th>Pacific</th>\n",
       "      <th>Income</th>\n",
       "      <th>Men</th>\n",
       "      <th>Women</th>\n",
       "    </tr>\n",
       "  </thead>\n",
       "  <tbody>\n",
       "    <tr>\n",
       "      <th>0</th>\n",
       "      <td>Rhode Island</td>\n",
       "      <td>1053661</td>\n",
       "      <td>13.356666666666678%</td>\n",
       "      <td>74.32541666666665%</td>\n",
       "      <td>5.68291666666667%</td>\n",
       "      <td>0.3462500000000001%</td>\n",
       "      <td>3.2474999999999983%</td>\n",
       "      <td>0.035833333333333335%</td>\n",
       "      <td>$59125.270833333336</td>\n",
       "      <td>510388M</td>\n",
       "      <td>543273F</td>\n",
       "    </tr>\n",
       "    <tr>\n",
       "      <th>1</th>\n",
       "      <td>South Carolina</td>\n",
       "      <td>4777576</td>\n",
       "      <td>5.056684981684991%</td>\n",
       "      <td>62.888736263736185%</td>\n",
       "      <td>28.75091575091577%</td>\n",
       "      <td>0.2923992673992673%</td>\n",
       "      <td>1.249175824175822%</td>\n",
       "      <td>0.046978021978021964%</td>\n",
       "      <td>$46296.807763401106</td>\n",
       "      <td>2322409M</td>\n",
       "      <td>2455167F</td>\n",
       "    </tr>\n",
       "    <tr>\n",
       "      <th>2</th>\n",
       "      <td>South Dakota</td>\n",
       "      <td>843190</td>\n",
       "      <td>3.2396396396396376%</td>\n",
       "      <td>82.50090090090092%</td>\n",
       "      <td>1.4238738738738752%</td>\n",
       "      <td>9.417567567567566%</td>\n",
       "      <td>1.0193693693693688%</td>\n",
       "      <td>0.04189189189189189%</td>\n",
       "      <td>$51805.40540540541</td>\n",
       "      <td>423477M</td>\n",
       "      <td>419713F</td>\n",
       "    </tr>\n",
       "    <tr>\n",
       "      <th>3</th>\n",
       "      <td>Tennessee</td>\n",
       "      <td>6499615</td>\n",
       "      <td>4.720026972353339%</td>\n",
       "      <td>73.49008766014822%</td>\n",
       "      <td>18.283816587997297%</td>\n",
       "      <td>0.22663519892110592%</td>\n",
       "      <td>1.4072825354012126%</td>\n",
       "      <td>0.04315576534052599%</td>\n",
       "      <td>$47328.083616587355</td>\n",
       "      <td>3167756M</td>\n",
       "      <td>3331859F</td>\n",
       "    </tr>\n",
       "    <tr>\n",
       "      <th>4</th>\n",
       "      <td>Texas</td>\n",
       "      <td>26538614</td>\n",
       "      <td>38.04673809068304%</td>\n",
       "      <td>44.687908934379145%</td>\n",
       "      <td>11.65004782858236%</td>\n",
       "      <td>0.26114405969007126%</td>\n",
       "      <td>3.6696958102161825%</td>\n",
       "      <td>0.06881576430074614%</td>\n",
       "      <td>$55874.522600500095</td>\n",
       "      <td>13171316M</td>\n",
       "      <td>13367298F</td>\n",
       "    </tr>\n",
       "  </tbody>\n",
       "</table>\n",
       "</div>"
      ],
      "text/plain": [
       "            State  TotalPop             Hispanic                White  \\\n",
       "0    Rhode Island   1053661  13.356666666666678%   74.32541666666665%   \n",
       "1  South Carolina   4777576   5.056684981684991%  62.888736263736185%   \n",
       "2    South Dakota    843190  3.2396396396396376%   82.50090090090092%   \n",
       "3       Tennessee   6499615   4.720026972353339%   73.49008766014822%   \n",
       "4           Texas  26538614   38.04673809068304%  44.687908934379145%   \n",
       "\n",
       "                 Black                Native                Asian  \\\n",
       "0    5.68291666666667%   0.3462500000000001%  3.2474999999999983%   \n",
       "1   28.75091575091577%   0.2923992673992673%   1.249175824175822%   \n",
       "2  1.4238738738738752%    9.417567567567566%  1.0193693693693688%   \n",
       "3  18.283816587997297%  0.22663519892110592%  1.4072825354012126%   \n",
       "4   11.65004782858236%  0.26114405969007126%  3.6696958102161825%   \n",
       "\n",
       "                 Pacific               Income        Men      Women  \n",
       "0  0.035833333333333335%  $59125.270833333336    510388M    543273F  \n",
       "1  0.046978021978021964%  $46296.807763401106   2322409M   2455167F  \n",
       "2   0.04189189189189189%   $51805.40540540541    423477M    419713F  \n",
       "3   0.04315576534052599%  $47328.083616587355   3167756M   3331859F  \n",
       "4   0.06881576430074614%  $55874.522600500095  13171316M  13367298F  "
      ]
     },
     "execution_count": 4,
     "metadata": {},
     "output_type": "execute_result"
    }
   ],
   "source": [
    "str_split = us_census.GenderPop.str.split('_')\n",
    "us_census['Men'] = str_split.str.get(0)\n",
    "us_census['Women'] = str_split.str.get(1)\n",
    "us_census.drop(['Unnamed: 0', 'GenderPop'], axis=1, inplace=True)\n",
    "us_census.head()"
   ]
  },
  {
   "cell_type": "code",
   "execution_count": 5,
   "metadata": {},
   "outputs": [
    {
     "data": {
      "text/plain": [
       "Index(['State', 'TotalPop', 'Hispanic', 'White', 'Black', 'Native', 'Asian',\n",
       "       'Pacific', 'Income', 'Men', 'Women'],\n",
       "      dtype='object')"
      ]
     },
     "execution_count": 5,
     "metadata": {},
     "output_type": "execute_result"
    }
   ],
   "source": [
    "us_census.columns"
   ]
  },
  {
   "cell_type": "markdown",
   "metadata": {},
   "source": [
    "## Converting objects to integers or floats"
   ]
  },
  {
   "cell_type": "code",
   "execution_count": 6,
   "metadata": {},
   "outputs": [
    {
     "data": {
      "text/plain": [
       "State       object\n",
       "TotalPop     int64\n",
       "Hispanic    object\n",
       "White       object\n",
       "Black       object\n",
       "Native      object\n",
       "Asian       object\n",
       "Pacific     object\n",
       "Income      object\n",
       "Men         object\n",
       "Women       object\n",
       "dtype: object"
      ]
     },
     "execution_count": 6,
     "metadata": {},
     "output_type": "execute_result"
    }
   ],
   "source": [
    "us_census.dtypes"
   ]
  },
  {
   "cell_type": "code",
   "execution_count": 7,
   "metadata": {},
   "outputs": [
    {
     "data": {
      "text/html": [
       "<div>\n",
       "<style scoped>\n",
       "    .dataframe tbody tr th:only-of-type {\n",
       "        vertical-align: middle;\n",
       "    }\n",
       "\n",
       "    .dataframe tbody tr th {\n",
       "        vertical-align: top;\n",
       "    }\n",
       "\n",
       "    .dataframe thead th {\n",
       "        text-align: right;\n",
       "    }\n",
       "</style>\n",
       "<table border=\"1\" class=\"dataframe\">\n",
       "  <thead>\n",
       "    <tr style=\"text-align: right;\">\n",
       "      <th></th>\n",
       "      <th>State</th>\n",
       "      <th>TotalPop</th>\n",
       "      <th>Hispanic</th>\n",
       "      <th>White</th>\n",
       "      <th>Black</th>\n",
       "      <th>Native</th>\n",
       "      <th>Asian</th>\n",
       "      <th>Pacific</th>\n",
       "      <th>Income</th>\n",
       "      <th>Men</th>\n",
       "      <th>Women</th>\n",
       "    </tr>\n",
       "  </thead>\n",
       "  <tbody>\n",
       "    <tr>\n",
       "      <th>0</th>\n",
       "      <td>Rhode Island</td>\n",
       "      <td>1053661</td>\n",
       "      <td>13.356667</td>\n",
       "      <td>74.325417</td>\n",
       "      <td>5.682917</td>\n",
       "      <td>0.346250</td>\n",
       "      <td>3.247500</td>\n",
       "      <td>0.035833</td>\n",
       "      <td>59125.270833</td>\n",
       "      <td>510388</td>\n",
       "      <td>543273.0</td>\n",
       "    </tr>\n",
       "    <tr>\n",
       "      <th>1</th>\n",
       "      <td>South Carolina</td>\n",
       "      <td>4777576</td>\n",
       "      <td>5.056685</td>\n",
       "      <td>62.888736</td>\n",
       "      <td>28.750916</td>\n",
       "      <td>0.292399</td>\n",
       "      <td>1.249176</td>\n",
       "      <td>0.046978</td>\n",
       "      <td>46296.807763</td>\n",
       "      <td>2322409</td>\n",
       "      <td>2455167.0</td>\n",
       "    </tr>\n",
       "    <tr>\n",
       "      <th>2</th>\n",
       "      <td>South Dakota</td>\n",
       "      <td>843190</td>\n",
       "      <td>3.239640</td>\n",
       "      <td>82.500901</td>\n",
       "      <td>1.423874</td>\n",
       "      <td>9.417568</td>\n",
       "      <td>1.019369</td>\n",
       "      <td>0.041892</td>\n",
       "      <td>51805.405405</td>\n",
       "      <td>423477</td>\n",
       "      <td>419713.0</td>\n",
       "    </tr>\n",
       "    <tr>\n",
       "      <th>3</th>\n",
       "      <td>Tennessee</td>\n",
       "      <td>6499615</td>\n",
       "      <td>4.720027</td>\n",
       "      <td>73.490088</td>\n",
       "      <td>18.283817</td>\n",
       "      <td>0.226635</td>\n",
       "      <td>1.407283</td>\n",
       "      <td>0.043156</td>\n",
       "      <td>47328.083617</td>\n",
       "      <td>3167756</td>\n",
       "      <td>3331859.0</td>\n",
       "    </tr>\n",
       "    <tr>\n",
       "      <th>4</th>\n",
       "      <td>Texas</td>\n",
       "      <td>26538614</td>\n",
       "      <td>38.046738</td>\n",
       "      <td>44.687909</td>\n",
       "      <td>11.650048</td>\n",
       "      <td>0.261144</td>\n",
       "      <td>3.669696</td>\n",
       "      <td>0.068816</td>\n",
       "      <td>55874.522601</td>\n",
       "      <td>13171316</td>\n",
       "      <td>13367298.0</td>\n",
       "    </tr>\n",
       "  </tbody>\n",
       "</table>\n",
       "</div>"
      ],
      "text/plain": [
       "            State  TotalPop   Hispanic      White      Black    Native  \\\n",
       "0    Rhode Island   1053661  13.356667  74.325417   5.682917  0.346250   \n",
       "1  South Carolina   4777576   5.056685  62.888736  28.750916  0.292399   \n",
       "2    South Dakota    843190   3.239640  82.500901   1.423874  9.417568   \n",
       "3       Tennessee   6499615   4.720027  73.490088  18.283817  0.226635   \n",
       "4           Texas  26538614  38.046738  44.687909  11.650048  0.261144   \n",
       "\n",
       "      Asian   Pacific        Income       Men       Women  \n",
       "0  3.247500  0.035833  59125.270833    510388    543273.0  \n",
       "1  1.249176  0.046978  46296.807763   2322409   2455167.0  \n",
       "2  1.019369  0.041892  51805.405405    423477    419713.0  \n",
       "3  1.407283  0.043156  47328.083617   3167756   3331859.0  \n",
       "4  3.669696  0.068816  55874.522601  13171316  13367298.0  "
      ]
     },
     "execution_count": 7,
     "metadata": {},
     "output_type": "execute_result"
    }
   ],
   "source": [
    "us_census['Hispanic'] = us_census['Hispanic'].replace('[\\%]', '', regex=True)\n",
    "us_census['Hispanic'] = pd.to_numeric(us_census['Hispanic'])\n",
    "\n",
    "us_census['White'] = us_census['White'].replace('[\\%]', '', regex=True)\n",
    "us_census['White'] = pd.to_numeric(us_census['White'])\n",
    "\n",
    "us_census['Black'] = us_census['Black'].replace('[\\%]', '', regex=True)\n",
    "us_census['Black'] = pd.to_numeric(us_census['Black'])\n",
    "\n",
    "us_census['Native'] = us_census['Native'].replace('[\\%]', '', regex=True)\n",
    "us_census['Native'] = pd.to_numeric(us_census['Native'])\n",
    "\n",
    "us_census['Asian'] = us_census['Asian'].replace('[\\%]', '', regex=True)\n",
    "us_census['Asian'] = pd.to_numeric(us_census['Asian'])\n",
    "\n",
    "us_census['Pacific'] = us_census['Pacific'].replace('[\\%]', '', regex=True)\n",
    "us_census['Pacific'] = pd.to_numeric(us_census['Pacific'])\n",
    "\n",
    "us_census['Income'] = us_census['Income'].replace('[\\$]', '', regex=True)\n",
    "us_census['Income'] = pd.to_numeric(us_census['Income'])\n",
    "\n",
    "us_census['Men'] = us_census['Men'].replace('[M]', '', regex=True)\n",
    "us_census['Men'] = pd.to_numeric(us_census['Men'])\n",
    "\n",
    "us_census['Women'] = us_census['Women'].replace('[F]', '', regex=True)\n",
    "us_census['Women'] = pd.to_numeric(us_census['Women'])\n",
    "\n",
    "us_census.head()"
   ]
  },
  {
   "cell_type": "code",
   "execution_count": 8,
   "metadata": {},
   "outputs": [
    {
     "data": {
      "text/plain": [
       "State        object\n",
       "TotalPop      int64\n",
       "Hispanic    float64\n",
       "White       float64\n",
       "Black       float64\n",
       "Native      float64\n",
       "Asian       float64\n",
       "Pacific     float64\n",
       "Income      float64\n",
       "Men           int64\n",
       "Women       float64\n",
       "dtype: object"
      ]
     },
     "execution_count": 8,
     "metadata": {},
     "output_type": "execute_result"
    }
   ],
   "source": [
    "us_census.dtypes"
   ]
  },
  {
   "cell_type": "markdown",
   "metadata": {},
   "source": [
    "## Replacing null values"
   ]
  },
  {
   "cell_type": "code",
   "execution_count": 9,
   "metadata": {},
   "outputs": [
    {
     "data": {
      "text/plain": [
       "3"
      ]
     },
     "execution_count": 9,
     "metadata": {},
     "output_type": "execute_result"
    }
   ],
   "source": [
    "us_census['Women'].isnull().sum()"
   ]
  },
  {
   "cell_type": "code",
   "execution_count": 10,
   "metadata": {},
   "outputs": [
    {
     "data": {
      "text/plain": [
       "0"
      ]
     },
     "execution_count": 10,
     "metadata": {},
     "output_type": "execute_result"
    }
   ],
   "source": [
    "us_census['Women'] = us_census['Women'].fillna(us_census['TotalPop']-us_census['Men'])\n",
    "us_census['Women'].isnull().sum()"
   ]
  },
  {
   "cell_type": "code",
   "execution_count": 11,
   "metadata": {},
   "outputs": [
    {
     "data": {
      "text/plain": [
       "0"
      ]
     },
     "execution_count": 11,
     "metadata": {},
     "output_type": "execute_result"
    }
   ],
   "source": [
    "us_census['Hispanic'].isnull().sum()"
   ]
  },
  {
   "cell_type": "code",
   "execution_count": 12,
   "metadata": {},
   "outputs": [
    {
     "data": {
      "text/plain": [
       "0"
      ]
     },
     "execution_count": 12,
     "metadata": {},
     "output_type": "execute_result"
    }
   ],
   "source": [
    "us_census['White'].isnull().sum()"
   ]
  },
  {
   "cell_type": "code",
   "execution_count": 13,
   "metadata": {},
   "outputs": [
    {
     "data": {
      "text/plain": [
       "0"
      ]
     },
     "execution_count": 13,
     "metadata": {},
     "output_type": "execute_result"
    }
   ],
   "source": [
    "us_census['Black'].isnull().sum()"
   ]
  },
  {
   "cell_type": "code",
   "execution_count": 14,
   "metadata": {},
   "outputs": [
    {
     "data": {
      "text/plain": [
       "0"
      ]
     },
     "execution_count": 14,
     "metadata": {},
     "output_type": "execute_result"
    }
   ],
   "source": [
    "us_census['Native'].isnull().sum()"
   ]
  },
  {
   "cell_type": "code",
   "execution_count": 15,
   "metadata": {},
   "outputs": [
    {
     "data": {
      "text/plain": [
       "0"
      ]
     },
     "execution_count": 15,
     "metadata": {},
     "output_type": "execute_result"
    }
   ],
   "source": [
    "us_census['Asian'].isnull().sum()"
   ]
  },
  {
   "cell_type": "code",
   "execution_count": 16,
   "metadata": {},
   "outputs": [
    {
     "data": {
      "text/plain": [
       "5"
      ]
     },
     "execution_count": 16,
     "metadata": {},
     "output_type": "execute_result"
    }
   ],
   "source": [
    "us_census['Pacific'].isnull().sum()"
   ]
  },
  {
   "cell_type": "code",
   "execution_count": 17,
   "metadata": {},
   "outputs": [
    {
     "data": {
      "text/plain": [
       "0"
      ]
     },
     "execution_count": 17,
     "metadata": {},
     "output_type": "execute_result"
    }
   ],
   "source": [
    "us_census['Pacific'] = us_census['Pacific'].fillna(100-\n",
    "                                                   us_census['Hispanic']-\n",
    "                                                   us_census['White']-\n",
    "                                                   us_census['Black']-\n",
    "                                                   us_census['Native']-\n",
    "                                                   us_census['Asian'])\n",
    "us_census['Pacific'].isnull().sum()"
   ]
  },
  {
   "cell_type": "markdown",
   "metadata": {},
   "source": [
    "## Deleting duplicates"
   ]
  },
  {
   "cell_type": "code",
   "execution_count": 18,
   "metadata": {},
   "outputs": [
    {
     "data": {
      "text/plain": [
       "False    51\n",
       "True      9\n",
       "dtype: int64"
      ]
     },
     "execution_count": 18,
     "metadata": {},
     "output_type": "execute_result"
    }
   ],
   "source": [
    "duplicates = us_census.duplicated()\n",
    "duplicates.value_counts()"
   ]
  },
  {
   "cell_type": "code",
   "execution_count": 19,
   "metadata": {},
   "outputs": [
    {
     "data": {
      "text/plain": [
       "False    51\n",
       "dtype: int64"
      ]
     },
     "execution_count": 19,
     "metadata": {},
     "output_type": "execute_result"
    }
   ],
   "source": [
    "us_census_new = us_census.drop_duplicates()\n",
    "duplicates = us_census_new.duplicated()\n",
    "duplicates.value_counts()"
   ]
  },
  {
   "cell_type": "markdown",
   "metadata": {},
   "source": [
    "## Creating histograms from race data"
   ]
  },
  {
   "cell_type": "code",
   "execution_count": 20,
   "metadata": {},
   "outputs": [
    {
     "data": {
      "text/plain": [
       "<function matplotlib.pyplot.show(*args, **kw)>"
      ]
     },
     "execution_count": 20,
     "metadata": {},
     "output_type": "execute_result"
    },
    {
     "data": {
      "image/png": "[encoded data removed]",
      "text/plain": [
       "<Figure size 432x288 with 1 Axes>"
      ]
     },
     "metadata": {
      "needs_background": "light"
     },
     "output_type": "display_data"
    }
   ],
   "source": [
    "plt.hist(us_census['Hispanic'])\n",
    "plt.show"
   ]
  },
  {
   "cell_type": "code",
   "execution_count": 21,
   "metadata": {},
   "outputs": [
    {
     "data": {
      "text/plain": [
       "<function matplotlib.pyplot.show(*args, **kw)>"
      ]
     },
     "execution_count": 21,
     "metadata": {},
     "output_type": "execute_result"
    },
    {
     "data": {
      "image/png": "[encoded data removed]",
      "text/plain": [
       "<Figure size 432x288 with 1 Axes>"
      ]
     },
     "metadata": {
      "needs_background": "light"
     },
     "output_type": "display_data"
    }
   ],
   "source": [
    "plt.hist(us_census['White'])\n",
    "plt.show"
   ]
  },
  {
   "cell_type": "code",
   "execution_count": 22,
   "metadata": {},
   "outputs": [
    {
     "data": {
      "text/plain": [
       "<function matplotlib.pyplot.show(*args, **kw)>"
      ]
     },
     "execution_count": 22,
     "metadata": {},
     "output_type": "execute_result"
    },
    {
     "data": {
      "image/png": "[encoded data removed]",
      "text/plain": [
       "<Figure size 432x288 with 1 Axes>"
      ]
     },
     "metadata": {
      "needs_background": "light"
     },
     "output_type": "display_data"
    }
   ],
   "source": [
    "plt.hist(us_census['Black'])\n",
    "plt.show"
   ]
  },
  {
   "cell_type": "code",
   "execution_count": 23,
   "metadata": {},
   "outputs": [
    {
     "data": {
      "text/plain": [
       "<function matplotlib.pyplot.show(*args, **kw)>"
      ]
     },
     "execution_count": 23,
     "metadata": {},
     "output_type": "execute_result"
    },
    {
     "data": {
      "image/png": "[encoded data removed]",
      "text/plain": [
       "<Figure size 432x288 with 1 Axes>"
      ]
     },
     "metadata": {
      "needs_background": "light"
     },
     "output_type": "display_data"
    }
   ],
   "source": [
    "plt.hist(us_census['Native'])\n",
    "plt.show"
   ]
  },
  {
   "cell_type": "code",
   "execution_count": 24,
   "metadata": {},
   "outputs": [
    {
     "data": {
      "text/plain": [
       "<function matplotlib.pyplot.show(*args, **kw)>"
      ]
     },
     "execution_count": 24,
     "metadata": {},
     "output_type": "execute_result"
    },
    {
     "data": {
      "image/png": "[encoded data removed]",
      "text/plain": [
       "<Figure size 432x288 with 1 Axes>"
      ]
     },
     "metadata": {
      "needs_background": "light"
     },
     "output_type": "display_data"
    }
   ],
   "source": [
    "plt.hist(us_census['Asian'])\n",
    "plt.show"
   ]
  },
  {
   "cell_type": "code",
   "execution_count": 25,
   "metadata": {},
   "outputs": [
    {
     "data": {
      "text/plain": [
       "<function matplotlib.pyplot.show(*args, **kw)>"
      ]
     },
     "execution_count": 25,
     "metadata": {},
     "output_type": "execute_result"
    },
    {
     "data": {
      "image/png": "[encoded data removed]",
      "text/plain": [
       "<Figure size 432x288 with 1 Axes>"
      ]
     },
     "metadata": {
      "needs_background": "light"
     },
     "output_type": "display_data"
    }
   ],
   "source": [
    "plt.hist(us_census['Pacific'])\n",
    "plt.show"
   ]
  }
 ],
 "metadata": {
  "kernelspec": {
   "display_name": "Python 3",
   "language": "python",
   "name": "python3"
  },
  "language_info": {
   "codemirror_mode": {
    "name": "ipython",
    "version": 3
   },
   "file_extension": ".py",
   "mimetype": "text/x-python",
   "name": "python",
   "nbconvert_exporter": "python",
   "pygments_lexer": "ipython3",
   "version": "3.8.2"
  }
 },
 "nbformat": 4,
 "nbformat_minor": 4
}
